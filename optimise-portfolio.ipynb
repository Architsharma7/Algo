{
 "cells": [
  {
   "cell_type": "code",
   "execution_count": 18,
   "metadata": {},
   "outputs": [
    {
     "name": "stderr",
     "output_type": "stream",
     "text": [
      "Matplotlib is building the font cache; this may take a moment.\n"
     ]
    }
   ],
   "source": [
    "import yfinance as yf\n",
    "import pandas as pd\n",
    "from datetime import datetime, timedelta\n",
    "import numpy as np\n",
    "from scipy.optimize import minimize\n",
    "import matplotlib.pyplot as plt"
   ]
  },
  {
   "cell_type": "code",
   "execution_count": 3,
   "metadata": {},
   "outputs": [
    {
     "name": "stderr",
     "output_type": "stream",
     "text": [
      "[*********************100%***********************]  1 of 1 completed\n",
      "[*********************100%***********************]  1 of 1 completed\n",
      "[*********************100%***********************]  1 of 1 completed\n",
      "[*********************100%***********************]  1 of 1 completed\n",
      "[*********************100%***********************]  1 of 1 completed\n"
     ]
    },
    {
     "data": {
      "text/html": [
       "<div>\n",
       "<style scoped>\n",
       "    .dataframe tbody tr th:only-of-type {\n",
       "        vertical-align: middle;\n",
       "    }\n",
       "\n",
       "    .dataframe tbody tr th {\n",
       "        vertical-align: top;\n",
       "    }\n",
       "\n",
       "    .dataframe thead th {\n",
       "        text-align: right;\n",
       "    }\n",
       "</style>\n",
       "<table border=\"1\" class=\"dataframe\">\n",
       "  <thead>\n",
       "    <tr style=\"text-align: right;\">\n",
       "      <th></th>\n",
       "      <th>SPY</th>\n",
       "      <th>QQQ</th>\n",
       "      <th>BND</th>\n",
       "      <th>GLD</th>\n",
       "      <th>VTI</th>\n",
       "    </tr>\n",
       "    <tr>\n",
       "      <th>Date</th>\n",
       "      <th></th>\n",
       "      <th></th>\n",
       "      <th></th>\n",
       "      <th></th>\n",
       "      <th></th>\n",
       "    </tr>\n",
       "  </thead>\n",
       "  <tbody>\n",
       "    <tr>\n",
       "      <th>2019-08-28</th>\n",
       "      <td>267.010834</td>\n",
       "      <td>179.296509</td>\n",
       "      <td>74.555763</td>\n",
       "      <td>145.160004</td>\n",
       "      <td>135.868210</td>\n",
       "    </tr>\n",
       "    <tr>\n",
       "      <th>2019-08-29</th>\n",
       "      <td>270.421295</td>\n",
       "      <td>182.037933</td>\n",
       "      <td>74.511986</td>\n",
       "      <td>144.119995</td>\n",
       "      <td>137.668793</td>\n",
       "    </tr>\n",
       "    <tr>\n",
       "      <th>2019-08-30</th>\n",
       "      <td>270.301270</td>\n",
       "      <td>181.602051</td>\n",
       "      <td>74.503250</td>\n",
       "      <td>143.750000</td>\n",
       "      <td>137.622635</td>\n",
       "    </tr>\n",
       "    <tr>\n",
       "      <th>2019-09-03</th>\n",
       "      <td>268.720703</td>\n",
       "      <td>179.839005</td>\n",
       "      <td>74.571655</td>\n",
       "      <td>145.750000</td>\n",
       "      <td>136.726929</td>\n",
       "    </tr>\n",
       "    <tr>\n",
       "      <th>2019-09-04</th>\n",
       "      <td>271.770813</td>\n",
       "      <td>182.435150</td>\n",
       "      <td>74.712044</td>\n",
       "      <td>146.660004</td>\n",
       "      <td>138.185959</td>\n",
       "    </tr>\n",
       "    <tr>\n",
       "      <th>...</th>\n",
       "      <td>...</td>\n",
       "      <td>...</td>\n",
       "      <td>...</td>\n",
       "      <td>...</td>\n",
       "      <td>...</td>\n",
       "    </tr>\n",
       "    <tr>\n",
       "      <th>2024-08-19</th>\n",
       "      <td>559.609985</td>\n",
       "      <td>481.269989</td>\n",
       "      <td>74.339996</td>\n",
       "      <td>231.610001</td>\n",
       "      <td>275.750000</td>\n",
       "    </tr>\n",
       "    <tr>\n",
       "      <th>2024-08-20</th>\n",
       "      <td>558.700012</td>\n",
       "      <td>480.260010</td>\n",
       "      <td>74.559998</td>\n",
       "      <td>232.460007</td>\n",
       "      <td>275.079987</td>\n",
       "    </tr>\n",
       "    <tr>\n",
       "      <th>2024-08-21</th>\n",
       "      <td>560.619995</td>\n",
       "      <td>482.500000</td>\n",
       "      <td>74.720001</td>\n",
       "      <td>232.149994</td>\n",
       "      <td>276.459991</td>\n",
       "    </tr>\n",
       "    <tr>\n",
       "      <th>2024-08-22</th>\n",
       "      <td>556.219971</td>\n",
       "      <td>474.850006</td>\n",
       "      <td>74.419998</td>\n",
       "      <td>229.369995</td>\n",
       "      <td>274.119995</td>\n",
       "    </tr>\n",
       "    <tr>\n",
       "      <th>2024-08-23</th>\n",
       "      <td>562.130005</td>\n",
       "      <td>480.000000</td>\n",
       "      <td>74.750000</td>\n",
       "      <td>232.020004</td>\n",
       "      <td>277.589996</td>\n",
       "    </tr>\n",
       "  </tbody>\n",
       "</table>\n",
       "<p>1256 rows × 5 columns</p>\n",
       "</div>"
      ],
      "text/plain": [
       "                   SPY         QQQ        BND         GLD         VTI\n",
       "Date                                                                 \n",
       "2019-08-28  267.010834  179.296509  74.555763  145.160004  135.868210\n",
       "2019-08-29  270.421295  182.037933  74.511986  144.119995  137.668793\n",
       "2019-08-30  270.301270  181.602051  74.503250  143.750000  137.622635\n",
       "2019-09-03  268.720703  179.839005  74.571655  145.750000  136.726929\n",
       "2019-09-04  271.770813  182.435150  74.712044  146.660004  138.185959\n",
       "...                ...         ...        ...         ...         ...\n",
       "2024-08-19  559.609985  481.269989  74.339996  231.610001  275.750000\n",
       "2024-08-20  558.700012  480.260010  74.559998  232.460007  275.079987\n",
       "2024-08-21  560.619995  482.500000  74.720001  232.149994  276.459991\n",
       "2024-08-22  556.219971  474.850006  74.419998  229.369995  274.119995\n",
       "2024-08-23  562.130005  480.000000  74.750000  232.020004  277.589996\n",
       "\n",
       "[1256 rows x 5 columns]"
      ]
     },
     "execution_count": 3,
     "metadata": {},
     "output_type": "execute_result"
    }
   ],
   "source": [
    "tickers = ['SPY', 'QQQ', 'BND', 'GLD', 'VTI']\n",
    "end_date = datetime.now()\n",
    "start_date = end_date - timedelta(days=365*10)\n",
    "adj_close = pd.DataFrame()\n",
    "for ticker in tickers:\n",
    "    data = yf.download(ticker, start=start_date, end=end_date)\n",
    "    adj_close[ticker] = data['Adj Close']\n",
    "adj_close"
   ]
  },
  {
   "cell_type": "markdown",
   "metadata": {},
   "source": [
    "#### Lognormal Returns"
   ]
  },
  {
   "cell_type": "code",
   "execution_count": 6,
   "metadata": {},
   "outputs": [
    {
     "data": {
      "text/html": [
       "<div>\n",
       "<style scoped>\n",
       "    .dataframe tbody tr th:only-of-type {\n",
       "        vertical-align: middle;\n",
       "    }\n",
       "\n",
       "    .dataframe tbody tr th {\n",
       "        vertical-align: top;\n",
       "    }\n",
       "\n",
       "    .dataframe thead th {\n",
       "        text-align: right;\n",
       "    }\n",
       "</style>\n",
       "<table border=\"1\" class=\"dataframe\">\n",
       "  <thead>\n",
       "    <tr style=\"text-align: right;\">\n",
       "      <th></th>\n",
       "      <th>SPY</th>\n",
       "      <th>QQQ</th>\n",
       "      <th>BND</th>\n",
       "      <th>GLD</th>\n",
       "      <th>VTI</th>\n",
       "    </tr>\n",
       "    <tr>\n",
       "      <th>Date</th>\n",
       "      <th></th>\n",
       "      <th></th>\n",
       "      <th></th>\n",
       "      <th></th>\n",
       "      <th></th>\n",
       "    </tr>\n",
       "  </thead>\n",
       "  <tbody>\n",
       "    <tr>\n",
       "      <th>2019-08-29</th>\n",
       "      <td>0.012692</td>\n",
       "      <td>0.015174</td>\n",
       "      <td>-0.000587</td>\n",
       "      <td>-0.007190</td>\n",
       "      <td>0.013165</td>\n",
       "    </tr>\n",
       "    <tr>\n",
       "      <th>2019-08-30</th>\n",
       "      <td>-0.000444</td>\n",
       "      <td>-0.002397</td>\n",
       "      <td>-0.000117</td>\n",
       "      <td>-0.002571</td>\n",
       "      <td>-0.000335</td>\n",
       "    </tr>\n",
       "    <tr>\n",
       "      <th>2019-09-03</th>\n",
       "      <td>-0.005865</td>\n",
       "      <td>-0.009756</td>\n",
       "      <td>0.000918</td>\n",
       "      <td>0.013817</td>\n",
       "      <td>-0.006530</td>\n",
       "    </tr>\n",
       "    <tr>\n",
       "      <th>2019-09-04</th>\n",
       "      <td>0.011287</td>\n",
       "      <td>0.014333</td>\n",
       "      <td>0.001881</td>\n",
       "      <td>0.006224</td>\n",
       "      <td>0.010615</td>\n",
       "    </tr>\n",
       "    <tr>\n",
       "      <th>2019-09-05</th>\n",
       "      <td>0.012773</td>\n",
       "      <td>0.018153</td>\n",
       "      <td>-0.005181</td>\n",
       "      <td>-0.024294</td>\n",
       "      <td>0.013276</td>\n",
       "    </tr>\n",
       "    <tr>\n",
       "      <th>...</th>\n",
       "      <td>...</td>\n",
       "      <td>...</td>\n",
       "      <td>...</td>\n",
       "      <td>...</td>\n",
       "      <td>...</td>\n",
       "    </tr>\n",
       "    <tr>\n",
       "      <th>2024-08-19</th>\n",
       "      <td>0.009516</td>\n",
       "      <td>0.013050</td>\n",
       "      <td>0.001211</td>\n",
       "      <td>-0.001639</td>\n",
       "      <td>0.009400</td>\n",
       "    </tr>\n",
       "    <tr>\n",
       "      <th>2024-08-20</th>\n",
       "      <td>-0.001627</td>\n",
       "      <td>-0.002101</td>\n",
       "      <td>0.002955</td>\n",
       "      <td>0.003663</td>\n",
       "      <td>-0.002433</td>\n",
       "    </tr>\n",
       "    <tr>\n",
       "      <th>2024-08-21</th>\n",
       "      <td>0.003431</td>\n",
       "      <td>0.004653</td>\n",
       "      <td>0.002144</td>\n",
       "      <td>-0.001335</td>\n",
       "      <td>0.005004</td>\n",
       "    </tr>\n",
       "    <tr>\n",
       "      <th>2024-08-22</th>\n",
       "      <td>-0.007879</td>\n",
       "      <td>-0.015982</td>\n",
       "      <td>-0.004023</td>\n",
       "      <td>-0.012047</td>\n",
       "      <td>-0.008500</td>\n",
       "    </tr>\n",
       "    <tr>\n",
       "      <th>2024-08-23</th>\n",
       "      <td>0.010569</td>\n",
       "      <td>0.010787</td>\n",
       "      <td>0.004425</td>\n",
       "      <td>0.011487</td>\n",
       "      <td>0.012579</td>\n",
       "    </tr>\n",
       "  </tbody>\n",
       "</table>\n",
       "<p>1255 rows × 5 columns</p>\n",
       "</div>"
      ],
      "text/plain": [
       "                 SPY       QQQ       BND       GLD       VTI\n",
       "Date                                                        \n",
       "2019-08-29  0.012692  0.015174 -0.000587 -0.007190  0.013165\n",
       "2019-08-30 -0.000444 -0.002397 -0.000117 -0.002571 -0.000335\n",
       "2019-09-03 -0.005865 -0.009756  0.000918  0.013817 -0.006530\n",
       "2019-09-04  0.011287  0.014333  0.001881  0.006224  0.010615\n",
       "2019-09-05  0.012773  0.018153 -0.005181 -0.024294  0.013276\n",
       "...              ...       ...       ...       ...       ...\n",
       "2024-08-19  0.009516  0.013050  0.001211 -0.001639  0.009400\n",
       "2024-08-20 -0.001627 -0.002101  0.002955  0.003663 -0.002433\n",
       "2024-08-21  0.003431  0.004653  0.002144 -0.001335  0.005004\n",
       "2024-08-22 -0.007879 -0.015982 -0.004023 -0.012047 -0.008500\n",
       "2024-08-23  0.010569  0.010787  0.004425  0.011487  0.012579\n",
       "\n",
       "[1255 rows x 5 columns]"
      ]
     },
     "execution_count": 6,
     "metadata": {},
     "output_type": "execute_result"
    }
   ],
   "source": [
    "log_returns = np.log(adj_close / adj_close.shift(1))\n",
    "log_returns = log_returns.dropna()\n",
    "log_returns"
   ]
  },
  {
   "cell_type": "markdown",
   "metadata": {},
   "source": [
    "#### Covariance Matrix"
   ]
  },
  {
   "cell_type": "code",
   "execution_count": 7,
   "metadata": {},
   "outputs": [
    {
     "data": {
      "text/html": [
       "<div>\n",
       "<style scoped>\n",
       "    .dataframe tbody tr th:only-of-type {\n",
       "        vertical-align: middle;\n",
       "    }\n",
       "\n",
       "    .dataframe tbody tr th {\n",
       "        vertical-align: top;\n",
       "    }\n",
       "\n",
       "    .dataframe thead th {\n",
       "        text-align: right;\n",
       "    }\n",
       "</style>\n",
       "<table border=\"1\" class=\"dataframe\">\n",
       "  <thead>\n",
       "    <tr style=\"text-align: right;\">\n",
       "      <th></th>\n",
       "      <th>SPY</th>\n",
       "      <th>QQQ</th>\n",
       "      <th>BND</th>\n",
       "      <th>GLD</th>\n",
       "      <th>VTI</th>\n",
       "    </tr>\n",
       "  </thead>\n",
       "  <tbody>\n",
       "    <tr>\n",
       "      <th>SPY</th>\n",
       "      <td>0.044011</td>\n",
       "      <td>0.049816</td>\n",
       "      <td>0.003070</td>\n",
       "      <td>0.004603</td>\n",
       "      <td>0.045094</td>\n",
       "    </tr>\n",
       "    <tr>\n",
       "      <th>QQQ</th>\n",
       "      <td>0.049816</td>\n",
       "      <td>0.065060</td>\n",
       "      <td>0.003698</td>\n",
       "      <td>0.006022</td>\n",
       "      <td>0.050965</td>\n",
       "    </tr>\n",
       "    <tr>\n",
       "      <th>BND</th>\n",
       "      <td>0.003070</td>\n",
       "      <td>0.003698</td>\n",
       "      <td>0.004881</td>\n",
       "      <td>0.003867</td>\n",
       "      <td>0.003263</td>\n",
       "    </tr>\n",
       "    <tr>\n",
       "      <th>GLD</th>\n",
       "      <td>0.004603</td>\n",
       "      <td>0.006022</td>\n",
       "      <td>0.003867</td>\n",
       "      <td>0.023432</td>\n",
       "      <td>0.004840</td>\n",
       "    </tr>\n",
       "    <tr>\n",
       "      <th>VTI</th>\n",
       "      <td>0.045094</td>\n",
       "      <td>0.050965</td>\n",
       "      <td>0.003263</td>\n",
       "      <td>0.004840</td>\n",
       "      <td>0.046584</td>\n",
       "    </tr>\n",
       "  </tbody>\n",
       "</table>\n",
       "</div>"
      ],
      "text/plain": [
       "          SPY       QQQ       BND       GLD       VTI\n",
       "SPY  0.044011  0.049816  0.003070  0.004603  0.045094\n",
       "QQQ  0.049816  0.065060  0.003698  0.006022  0.050965\n",
       "BND  0.003070  0.003698  0.004881  0.003867  0.003263\n",
       "GLD  0.004603  0.006022  0.003867  0.023432  0.004840\n",
       "VTI  0.045094  0.050965  0.003263  0.004840  0.046584"
      ]
     },
     "execution_count": 7,
     "metadata": {},
     "output_type": "execute_result"
    }
   ],
   "source": [
    "# 252 trading days in a year\n",
    "cov_matrix = log_returns.cov()*252\n",
    "cov_matrix"
   ]
  },
  {
   "cell_type": "code",
   "execution_count": 8,
   "metadata": {},
   "outputs": [],
   "source": [
    "def standard_deviation(weights, cov_matrix):\n",
    "    variance = weights.T @ cov_matrix @ weights\n",
    "    return np.sqrt(variance)"
   ]
  },
  {
   "cell_type": "code",
   "execution_count": 9,
   "metadata": {},
   "outputs": [],
   "source": [
    "# expected returns assuming they are based on historical returns\n",
    "def expected_return(weights, log_returns):\n",
    "    return np.sum(log_returns.mean() * weights) * 252"
   ]
  },
  {
   "cell_type": "code",
   "execution_count": 10,
   "metadata": {},
   "outputs": [],
   "source": [
    "# calulating sharpe ratio\n",
    "def sharpe_ratio(weights, log_returns, cov_matrix, risk_free_rate):\n",
    "    ret = expected_return(weights, log_returns)\n",
    "    std = standard_deviation(weights, cov_matrix)\n",
    "    return (ret - risk_free_rate) / std"
   ]
  },
  {
   "cell_type": "code",
   "execution_count": 11,
   "metadata": {},
   "outputs": [],
   "source": [
    "risk_free_rate = 0.034"
   ]
  },
  {
   "cell_type": "code",
   "execution_count": 12,
   "metadata": {},
   "outputs": [],
   "source": [
    "# in case of scipy.optimize.minimize, there is no direct method to find the maximum value of a function\n",
    "def neg_sharpe_ratio(weights, log_returns, cov_matrix, risk_free_rate):\n",
    "    return -sharpe_ratio(weights, log_returns, cov_matrix, risk_free_rate)"
   ]
  },
  {
   "cell_type": "code",
   "execution_count": 13,
   "metadata": {},
   "outputs": [],
   "source": [
    "# in my case, the constraint is that the sum of all portfolio weights should be 1. \n",
    "# bounds are limits placed on portfolio weights and each weight should be between 0 and 1\n",
    "# 0 =>  we can't go short on any asset\n",
    "# 0.5 => we can't allocate more than 50% of the portfolio to any asset\n",
    "constraints = ({'type': 'eq', 'fun': lambda x: np.sum(x) - 1})\n",
    "bounds = [(0, 0.5) for i in range(len(tickers))]    # 0 <= weight <= 0.5"
   ]
  },
  {
   "cell_type": "code",
   "execution_count": 15,
   "metadata": {},
   "outputs": [
    {
     "data": {
      "text/plain": [
       "array([0.2, 0.2, 0.2, 0.2, 0.2])"
      ]
     },
     "execution_count": 15,
     "metadata": {},
     "output_type": "execute_result"
    }
   ],
   "source": [
    "initial_weights = np.array([1/len(tickers)]*len(tickers))\n",
    "initial_weights"
   ]
  },
  {
   "cell_type": "code",
   "execution_count": 16,
   "metadata": {},
   "outputs": [],
   "source": [
    "optimised_results = minimize(neg_sharpe_ratio, initial_weights, args=(log_returns, cov_matrix, risk_free_rate), method='SLSQP', bounds=bounds, constraints=constraints)"
   ]
  },
  {
   "cell_type": "code",
   "execution_count": 17,
   "metadata": {},
   "outputs": [],
   "source": [
    "optimisal_weights = optimised_results.x"
   ]
  },
  {
   "cell_type": "code",
   "execution_count": 20,
   "metadata": {},
   "outputs": [
    {
     "name": "stdout",
     "output_type": "stream",
     "text": [
      "SPY: 0.0000%\n",
      "QQQ: 0.5000%\n",
      "BND: 0.0000%\n",
      "GLD: 0.5000%\n",
      "VTI: 0.0000%\n",
      "Expected return: 0.1460\n",
      "Volatility: 0.1585\n",
      "Sharpe ratio: 0.7062\n"
     ]
    }
   ],
   "source": [
    "for ticker, weight in zip(tickers, optimisal_weights):\n",
    "    print(f'{ticker}: {weight:.4f}%')\n",
    "optimal_portfolio_return = expected_return(optimisal_weights, log_returns)\n",
    "optimal_portfolio_volatility = standard_deviation(optimisal_weights, cov_matrix)\n",
    "optimal_sharpr_ratio = sharpe_ratio(optimisal_weights, log_returns, cov_matrix, risk_free_rate)\n",
    "print(f'Expected return: {optimal_portfolio_return:.4f}')\n",
    "print(f'Volatility: {optimal_portfolio_volatility:.4f}')\n",
    "print(f'Sharpe ratio: {optimal_sharpr_ratio:.4f}')"
   ]
  },
  {
   "cell_type": "code",
   "execution_count": 21,
   "metadata": {},
   "outputs": [
    {
     "data": {
      "image/png": "[encoded data removed]",
      "text/plain": [
       "<Figure size 1000x600 with 1 Axes>"
      ]
     },
     "metadata": {},
     "output_type": "display_data"
    }
   ],
   "source": [
    "plt.figure(figsize=(10, 6))\n",
    "plt.bar(tickers, optimisal_weights)\n",
    "\n",
    "plt.title('Optimal Portfolio Weights')\n",
    "plt.xlabel('Assets')\n",
    "plt.ylabel('Optimal Weights')\n",
    "\n",
    "plt.show()"
   ]
  }
 ],
 "metadata": {
  "kernelspec": {
   "display_name": "algoenv",
   "language": "python",
   "name": "python3"
  },
  "language_info": {
   "codemirror_mode": {
    "name": "ipython",
    "version": 3
   },
   "file_extension": ".py",
   "mimetype": "text/x-python",
   "name": "python",
   "nbconvert_exporter": "python",
   "pygments_lexer": "ipython3",
   "version": "3.9.6"
  }
 },
 "nbformat": 4,
 "nbformat_minor": 2
}
