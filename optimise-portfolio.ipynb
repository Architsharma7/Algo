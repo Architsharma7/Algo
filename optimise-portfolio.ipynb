{
 "cells": [
  {
   "cell_type": "code",
   "execution_count": 22,
   "metadata": {},
   "outputs": [],
   "source": [
    "import yfinance as yf\n",
    "import pandas as pd\n",
    "from datetime import datetime, timedelta\n",
    "import numpy as np\n",
    "from scipy.optimize import minimize\n",
    "import matplotlib.pyplot as plt"
   ]
  },
  {
   "cell_type": "code",
   "execution_count": 23,
   "metadata": {},
   "outputs": [
    {
     "name": "stderr",
     "output_type": "stream",
     "text": [
      "[*********************100%***********************]  1 of 1 completed\n",
      "[*********************100%***********************]  1 of 1 completed\n",
      "[*********************100%***********************]  1 of 1 completed\n",
      "[*********************100%***********************]  1 of 1 completed\n",
      "[*********************100%***********************]  1 of 1 completed\n"
     ]
    },
    {
     "data": {
      "text/html": [
       "<div>\n",
       "<style scoped>\n",
       "    .dataframe tbody tr th:only-of-type {\n",
       "        vertical-align: middle;\n",
       "    }\n",
       "\n",
       "    .dataframe tbody tr th {\n",
       "        vertical-align: top;\n",
       "    }\n",
       "\n",
       "    .dataframe thead th {\n",
       "        text-align: right;\n",
       "    }\n",
       "</style>\n",
       "<table border=\"1\" class=\"dataframe\">\n",
       "  <thead>\n",
       "    <tr style=\"text-align: right;\">\n",
       "      <th></th>\n",
       "      <th>SPY</th>\n",
       "      <th>QQQ</th>\n",
       "      <th>BND</th>\n",
       "      <th>GLD</th>\n",
       "      <th>VTI</th>\n",
       "    </tr>\n",
       "    <tr>\n",
       "      <th>Date</th>\n",
       "      <th></th>\n",
       "      <th></th>\n",
       "      <th></th>\n",
       "      <th></th>\n",
       "      <th></th>\n",
       "    </tr>\n",
       "  </thead>\n",
       "  <tbody>\n",
       "    <tr>\n",
       "      <th>2014-08-29</th>\n",
       "      <td>167.997009</td>\n",
       "      <td>92.056786</td>\n",
       "      <td>62.882965</td>\n",
       "      <td>123.860001</td>\n",
       "      <td>87.143166</td>\n",
       "    </tr>\n",
       "    <tr>\n",
       "      <th>2014-09-02</th>\n",
       "      <td>167.913330</td>\n",
       "      <td>92.324341</td>\n",
       "      <td>62.668571</td>\n",
       "      <td>121.650002</td>\n",
       "      <td>87.210266</td>\n",
       "    </tr>\n",
       "    <tr>\n",
       "      <th>2014-09-03</th>\n",
       "      <td>167.821259</td>\n",
       "      <td>91.780006</td>\n",
       "      <td>62.775398</td>\n",
       "      <td>122.150002</td>\n",
       "      <td>87.118011</td>\n",
       "    </tr>\n",
       "    <tr>\n",
       "      <th>2014-09-04</th>\n",
       "      <td>167.578491</td>\n",
       "      <td>91.696976</td>\n",
       "      <td>62.668571</td>\n",
       "      <td>121.480003</td>\n",
       "      <td>86.933449</td>\n",
       "    </tr>\n",
       "    <tr>\n",
       "      <th>2014-09-05</th>\n",
       "      <td>168.331833</td>\n",
       "      <td>92.158279</td>\n",
       "      <td>62.645660</td>\n",
       "      <td>122.059998</td>\n",
       "      <td>87.336090</td>\n",
       "    </tr>\n",
       "    <tr>\n",
       "      <th>...</th>\n",
       "      <td>...</td>\n",
       "      <td>...</td>\n",
       "      <td>...</td>\n",
       "      <td>...</td>\n",
       "      <td>...</td>\n",
       "    </tr>\n",
       "    <tr>\n",
       "      <th>2024-08-19</th>\n",
       "      <td>559.609985</td>\n",
       "      <td>481.269989</td>\n",
       "      <td>74.339996</td>\n",
       "      <td>231.610001</td>\n",
       "      <td>275.750000</td>\n",
       "    </tr>\n",
       "    <tr>\n",
       "      <th>2024-08-20</th>\n",
       "      <td>558.700012</td>\n",
       "      <td>480.260010</td>\n",
       "      <td>74.559998</td>\n",
       "      <td>232.460007</td>\n",
       "      <td>275.079987</td>\n",
       "    </tr>\n",
       "    <tr>\n",
       "      <th>2024-08-21</th>\n",
       "      <td>560.619995</td>\n",
       "      <td>482.500000</td>\n",
       "      <td>74.720001</td>\n",
       "      <td>232.149994</td>\n",
       "      <td>276.459991</td>\n",
       "    </tr>\n",
       "    <tr>\n",
       "      <th>2024-08-22</th>\n",
       "      <td>556.219971</td>\n",
       "      <td>474.850006</td>\n",
       "      <td>74.419998</td>\n",
       "      <td>229.369995</td>\n",
       "      <td>274.119995</td>\n",
       "    </tr>\n",
       "    <tr>\n",
       "      <th>2024-08-23</th>\n",
       "      <td>562.130005</td>\n",
       "      <td>480.000000</td>\n",
       "      <td>74.750000</td>\n",
       "      <td>232.020004</td>\n",
       "      <td>277.589996</td>\n",
       "    </tr>\n",
       "  </tbody>\n",
       "</table>\n",
       "<p>2513 rows × 5 columns</p>\n",
       "</div>"
      ],
      "text/plain": [
       "                   SPY         QQQ        BND         GLD         VTI\n",
       "Date                                                                 \n",
       "2014-08-29  167.997009   92.056786  62.882965  123.860001   87.143166\n",
       "2014-09-02  167.913330   92.324341  62.668571  121.650002   87.210266\n",
       "2014-09-03  167.821259   91.780006  62.775398  122.150002   87.118011\n",
       "2014-09-04  167.578491   91.696976  62.668571  121.480003   86.933449\n",
       "2014-09-05  168.331833   92.158279  62.645660  122.059998   87.336090\n",
       "...                ...         ...        ...         ...         ...\n",
       "2024-08-19  559.609985  481.269989  74.339996  231.610001  275.750000\n",
       "2024-08-20  558.700012  480.260010  74.559998  232.460007  275.079987\n",
       "2024-08-21  560.619995  482.500000  74.720001  232.149994  276.459991\n",
       "2024-08-22  556.219971  474.850006  74.419998  229.369995  274.119995\n",
       "2024-08-23  562.130005  480.000000  74.750000  232.020004  277.589996\n",
       "\n",
       "[2513 rows x 5 columns]"
      ]
     },
     "execution_count": 23,
     "metadata": {},
     "output_type": "execute_result"
    }
   ],
   "source": [
    "tickers = ['SPY', 'QQQ', 'BND', 'GLD', 'VTI']\n",
    "end_date = datetime.now()\n",
    "start_date = end_date - timedelta(days=365*10)\n",
    "adj_close = pd.DataFrame()\n",
    "for ticker in tickers:\n",
    "    data = yf.download(ticker, start=start_date, end=end_date)\n",
    "    adj_close[ticker] = data['Adj Close']\n",
    "adj_close"
   ]
  },
  {
   "cell_type": "markdown",
   "metadata": {},
   "source": [
    "#### Lognormal Returns"
   ]
  },
  {
   "cell_type": "code",
   "execution_count": 24,
   "metadata": {},
   "outputs": [
    {
     "data": {
      "text/html": [
       "<div>\n",
       "<style scoped>\n",
       "    .dataframe tbody tr th:only-of-type {\n",
       "        vertical-align: middle;\n",
       "    }\n",
       "\n",
       "    .dataframe tbody tr th {\n",
       "        vertical-align: top;\n",
       "    }\n",
       "\n",
       "    .dataframe thead th {\n",
       "        text-align: right;\n",
       "    }\n",
       "</style>\n",
       "<table border=\"1\" class=\"dataframe\">\n",
       "  <thead>\n",
       "    <tr style=\"text-align: right;\">\n",
       "      <th></th>\n",
       "      <th>SPY</th>\n",
       "      <th>QQQ</th>\n",
       "      <th>BND</th>\n",
       "      <th>GLD</th>\n",
       "      <th>VTI</th>\n",
       "    </tr>\n",
       "    <tr>\n",
       "      <th>Date</th>\n",
       "      <th></th>\n",
       "      <th></th>\n",
       "      <th></th>\n",
       "      <th></th>\n",
       "      <th></th>\n",
       "    </tr>\n",
       "  </thead>\n",
       "  <tbody>\n",
       "    <tr>\n",
       "      <th>2014-09-02</th>\n",
       "      <td>-0.000498</td>\n",
       "      <td>0.002902</td>\n",
       "      <td>-0.003415</td>\n",
       "      <td>-0.018004</td>\n",
       "      <td>0.000770</td>\n",
       "    </tr>\n",
       "    <tr>\n",
       "      <th>2014-09-03</th>\n",
       "      <td>-0.000548</td>\n",
       "      <td>-0.005913</td>\n",
       "      <td>0.001703</td>\n",
       "      <td>0.004102</td>\n",
       "      <td>-0.001058</td>\n",
       "    </tr>\n",
       "    <tr>\n",
       "      <th>2014-09-04</th>\n",
       "      <td>-0.001448</td>\n",
       "      <td>-0.000905</td>\n",
       "      <td>-0.001703</td>\n",
       "      <td>-0.005500</td>\n",
       "      <td>-0.002121</td>\n",
       "    </tr>\n",
       "    <tr>\n",
       "      <th>2014-09-05</th>\n",
       "      <td>0.004485</td>\n",
       "      <td>0.005018</td>\n",
       "      <td>-0.000366</td>\n",
       "      <td>0.004763</td>\n",
       "      <td>0.004621</td>\n",
       "    </tr>\n",
       "    <tr>\n",
       "      <th>2014-09-08</th>\n",
       "      <td>-0.002589</td>\n",
       "      <td>0.001900</td>\n",
       "      <td>-0.000731</td>\n",
       "      <td>-0.010956</td>\n",
       "      <td>-0.002019</td>\n",
       "    </tr>\n",
       "    <tr>\n",
       "      <th>...</th>\n",
       "      <td>...</td>\n",
       "      <td>...</td>\n",
       "      <td>...</td>\n",
       "      <td>...</td>\n",
       "      <td>...</td>\n",
       "    </tr>\n",
       "    <tr>\n",
       "      <th>2024-08-19</th>\n",
       "      <td>0.009516</td>\n",
       "      <td>0.013050</td>\n",
       "      <td>0.001211</td>\n",
       "      <td>-0.001639</td>\n",
       "      <td>0.009400</td>\n",
       "    </tr>\n",
       "    <tr>\n",
       "      <th>2024-08-20</th>\n",
       "      <td>-0.001627</td>\n",
       "      <td>-0.002101</td>\n",
       "      <td>0.002955</td>\n",
       "      <td>0.003663</td>\n",
       "      <td>-0.002433</td>\n",
       "    </tr>\n",
       "    <tr>\n",
       "      <th>2024-08-21</th>\n",
       "      <td>0.003431</td>\n",
       "      <td>0.004653</td>\n",
       "      <td>0.002144</td>\n",
       "      <td>-0.001335</td>\n",
       "      <td>0.005004</td>\n",
       "    </tr>\n",
       "    <tr>\n",
       "      <th>2024-08-22</th>\n",
       "      <td>-0.007879</td>\n",
       "      <td>-0.015982</td>\n",
       "      <td>-0.004023</td>\n",
       "      <td>-0.012047</td>\n",
       "      <td>-0.008500</td>\n",
       "    </tr>\n",
       "    <tr>\n",
       "      <th>2024-08-23</th>\n",
       "      <td>0.010569</td>\n",
       "      <td>0.010787</td>\n",
       "      <td>0.004425</td>\n",
       "      <td>0.011487</td>\n",
       "      <td>0.012579</td>\n",
       "    </tr>\n",
       "  </tbody>\n",
       "</table>\n",
       "<p>2512 rows × 5 columns</p>\n",
       "</div>"
      ],
      "text/plain": [
       "                 SPY       QQQ       BND       GLD       VTI\n",
       "Date                                                        \n",
       "2014-09-02 -0.000498  0.002902 -0.003415 -0.018004  0.000770\n",
       "2014-09-03 -0.000548 -0.005913  0.001703  0.004102 -0.001058\n",
       "2014-09-04 -0.001448 -0.000905 -0.001703 -0.005500 -0.002121\n",
       "2014-09-05  0.004485  0.005018 -0.000366  0.004763  0.004621\n",
       "2014-09-08 -0.002589  0.001900 -0.000731 -0.010956 -0.002019\n",
       "...              ...       ...       ...       ...       ...\n",
       "2024-08-19  0.009516  0.013050  0.001211 -0.001639  0.009400\n",
       "2024-08-20 -0.001627 -0.002101  0.002955  0.003663 -0.002433\n",
       "2024-08-21  0.003431  0.004653  0.002144 -0.001335  0.005004\n",
       "2024-08-22 -0.007879 -0.015982 -0.004023 -0.012047 -0.008500\n",
       "2024-08-23  0.010569  0.010787  0.004425  0.011487  0.012579\n",
       "\n",
       "[2512 rows x 5 columns]"
      ]
     },
     "execution_count": 24,
     "metadata": {},
     "output_type": "execute_result"
    }
   ],
   "source": [
    "log_returns = np.log(adj_close / adj_close.shift(1))\n",
    "log_returns = log_returns.dropna()\n",
    "log_returns"
   ]
  },
  {
   "cell_type": "markdown",
   "metadata": {},
   "source": [
    "#### Covariance Matrix"
   ]
  },
  {
   "cell_type": "code",
   "execution_count": 25,
   "metadata": {},
   "outputs": [
    {
     "data": {
      "text/html": [
       "<div>\n",
       "<style scoped>\n",
       "    .dataframe tbody tr th:only-of-type {\n",
       "        vertical-align: middle;\n",
       "    }\n",
       "\n",
       "    .dataframe tbody tr th {\n",
       "        vertical-align: top;\n",
       "    }\n",
       "\n",
       "    .dataframe thead th {\n",
       "        text-align: right;\n",
       "    }\n",
       "</style>\n",
       "<table border=\"1\" class=\"dataframe\">\n",
       "  <thead>\n",
       "    <tr style=\"text-align: right;\">\n",
       "      <th></th>\n",
       "      <th>SPY</th>\n",
       "      <th>QQQ</th>\n",
       "      <th>BND</th>\n",
       "      <th>GLD</th>\n",
       "      <th>VTI</th>\n",
       "    </tr>\n",
       "  </thead>\n",
       "  <tbody>\n",
       "    <tr>\n",
       "      <th>SPY</th>\n",
       "      <td>0.031311</td>\n",
       "      <td>0.035868</td>\n",
       "      <td>0.001006</td>\n",
       "      <td>0.000962</td>\n",
       "      <td>0.031829</td>\n",
       "    </tr>\n",
       "    <tr>\n",
       "      <th>QQQ</th>\n",
       "      <td>0.035868</td>\n",
       "      <td>0.047566</td>\n",
       "      <td>0.001329</td>\n",
       "      <td>0.001452</td>\n",
       "      <td>0.036410</td>\n",
       "    </tr>\n",
       "    <tr>\n",
       "      <th>BND</th>\n",
       "      <td>0.001006</td>\n",
       "      <td>0.001329</td>\n",
       "      <td>0.002924</td>\n",
       "      <td>0.002791</td>\n",
       "      <td>0.001094</td>\n",
       "    </tr>\n",
       "    <tr>\n",
       "      <th>GLD</th>\n",
       "      <td>0.000962</td>\n",
       "      <td>0.001452</td>\n",
       "      <td>0.002791</td>\n",
       "      <td>0.020263</td>\n",
       "      <td>0.001084</td>\n",
       "    </tr>\n",
       "    <tr>\n",
       "      <th>VTI</th>\n",
       "      <td>0.031829</td>\n",
       "      <td>0.036410</td>\n",
       "      <td>0.001094</td>\n",
       "      <td>0.001084</td>\n",
       "      <td>0.032623</td>\n",
       "    </tr>\n",
       "  </tbody>\n",
       "</table>\n",
       "</div>"
      ],
      "text/plain": [
       "          SPY       QQQ       BND       GLD       VTI\n",
       "SPY  0.031311  0.035868  0.001006  0.000962  0.031829\n",
       "QQQ  0.035868  0.047566  0.001329  0.001452  0.036410\n",
       "BND  0.001006  0.001329  0.002924  0.002791  0.001094\n",
       "GLD  0.000962  0.001452  0.002791  0.020263  0.001084\n",
       "VTI  0.031829  0.036410  0.001094  0.001084  0.032623"
      ]
     },
     "execution_count": 25,
     "metadata": {},
     "output_type": "execute_result"
    }
   ],
   "source": [
    "# 252 trading days in a year\n",
    "cov_matrix = log_returns.cov()*252\n",
    "cov_matrix"
   ]
  },
  {
   "cell_type": "code",
   "execution_count": 26,
   "metadata": {},
   "outputs": [],
   "source": [
    "def standard_deviation(weights, cov_matrix):\n",
    "    variance = weights.T @ cov_matrix @ weights\n",
    "    return np.sqrt(variance)"
   ]
  },
  {
   "cell_type": "code",
   "execution_count": 27,
   "metadata": {},
   "outputs": [],
   "source": [
    "# expected returns assuming they are based on historical returns\n",
    "def expected_return(weights, log_returns):\n",
    "    return np.sum(log_returns.mean() * weights) * 252"
   ]
  },
  {
   "cell_type": "code",
   "execution_count": 28,
   "metadata": {},
   "outputs": [],
   "source": [
    "# calulating sharpe ratio\n",
    "def sharpe_ratio(weights, log_returns, cov_matrix, risk_free_rate):\n",
    "    ret = expected_return(weights, log_returns)\n",
    "    std = standard_deviation(weights, cov_matrix)\n",
    "    return (ret - risk_free_rate) / std"
   ]
  },
  {
   "cell_type": "code",
   "execution_count": 29,
   "metadata": {},
   "outputs": [],
   "source": [
    "risk_free_rate = 0.034"
   ]
  },
  {
   "cell_type": "code",
   "execution_count": 30,
   "metadata": {},
   "outputs": [],
   "source": [
    "# in case of scipy.optimize.minimize, there is no direct method to find the maximum value of a function\n",
    "def neg_sharpe_ratio(weights, log_returns, cov_matrix, risk_free_rate):\n",
    "    return -sharpe_ratio(weights, log_returns, cov_matrix, risk_free_rate)"
   ]
  },
  {
   "cell_type": "code",
   "execution_count": 31,
   "metadata": {},
   "outputs": [],
   "source": [
    "# in my case, the constraint is that the sum of all portfolio weights should be 1. \n",
    "# bounds are limits placed on portfolio weights and each weight should be between 0 and 1\n",
    "# 0 =>  we can't go short on any asset\n",
    "# 0.5 => we can't allocate more than 50% of the portfolio to any asset\n",
    "constraints = ({'type': 'eq', 'fun': lambda x: np.sum(x) - 1})\n",
    "bounds = [(0, 0.5) for i in range(len(tickers))]    # 0 <= weight <= 0.5"
   ]
  },
  {
   "cell_type": "code",
   "execution_count": 32,
   "metadata": {},
   "outputs": [
    {
     "data": {
      "text/plain": [
       "array([0.2, 0.2, 0.2, 0.2, 0.2])"
      ]
     },
     "execution_count": 32,
     "metadata": {},
     "output_type": "execute_result"
    }
   ],
   "source": [
    "initial_weights = np.array([1/len(tickers)]*len(tickers))\n",
    "initial_weights"
   ]
  },
  {
   "cell_type": "code",
   "execution_count": 33,
   "metadata": {},
   "outputs": [],
   "source": [
    "optimised_results = minimize(neg_sharpe_ratio, initial_weights, args=(log_returns, cov_matrix, risk_free_rate), method='SLSQP', bounds=bounds, constraints=constraints)"
   ]
  },
  {
   "cell_type": "code",
   "execution_count": 34,
   "metadata": {},
   "outputs": [],
   "source": [
    "optimisal_weights = optimised_results.x"
   ]
  },
  {
   "cell_type": "code",
   "execution_count": 35,
   "metadata": {},
   "outputs": [
    {
     "name": "stdout",
     "output_type": "stream",
     "text": [
      "SPY: 0.1189%\n",
      "QQQ: 0.5000%\n",
      "BND: 0.0000%\n",
      "GLD: 0.3811%\n",
      "VTI: 0.0000%\n",
      "Expected return: 0.1212\n",
      "Volatility: 0.1421\n",
      "Sharpe ratio: 0.6141\n"
     ]
    }
   ],
   "source": [
    "for ticker, weight in zip(tickers, optimisal_weights):\n",
    "    print(f'{ticker}: {weight:.4f}%')\n",
    "optimal_portfolio_return = expected_return(optimisal_weights, log_returns)\n",
    "optimal_portfolio_volatility = standard_deviation(optimisal_weights, cov_matrix)\n",
    "optimal_sharpr_ratio = sharpe_ratio(optimisal_weights, log_returns, cov_matrix, risk_free_rate)\n",
    "print(f'Expected return: {optimal_portfolio_return:.4f}')\n",
    "print(f'Volatility: {optimal_portfolio_volatility:.4f}')\n",
    "print(f'Sharpe ratio: {optimal_sharpr_ratio:.4f}')"
   ]
  },
  {
   "cell_type": "code",
   "execution_count": 36,
   "metadata": {},
   "outputs": [
    {
     "data": {
      "image/png": "[encoded data removed]",
      "text/plain": [
       "<Figure size 1000x600 with 1 Axes>"
      ]
     },
     "metadata": {},
     "output_type": "display_data"
    }
   ],
   "source": [
    "plt.figure(figsize=(10, 6))\n",
    "plt.bar(tickers, optimisal_weights)\n",
    "\n",
    "plt.title('Optimal Portfolio Weights')\n",
    "plt.xlabel('Assets')\n",
    "plt.ylabel('Optimal Weights')\n",
    "\n",
    "plt.show()"
   ]
  }
 ],
 "metadata": {
  "kernelspec": {
   "display_name": "algoenv",
   "language": "python",
   "name": "python3"
  },
  "language_info": {
   "codemirror_mode": {
    "name": "ipython",
    "version": 3
   },
   "file_extension": ".py",
   "mimetype": "text/x-python",
   "name": "python",
   "nbconvert_exporter": "python",
   "pygments_lexer": "ipython3",
   "version": "3.9.6"
  }
 },
 "nbformat": 4,
 "nbformat_minor": 2
}
