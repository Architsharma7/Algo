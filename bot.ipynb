{
 "cells": [
  {
   "cell_type": "code",
   "execution_count": 1,
   "metadata": {},
   "outputs": [
    {
     "name": "stderr",
     "output_type": "stream",
     "text": [
      "/Users/archit/Algo/algoenv/lib/python3.9/site-packages/urllib3/__init__.py:35: NotOpenSSLWarning: urllib3 v2 only supports OpenSSL 1.1.1+, currently the 'ssl' module is compiled with 'LibreSSL 2.8.3'. See: https://github.com/urllib3/urllib3/issues/3020\n",
      "  warnings.warn(\n"
     ]
    }
   ],
   "source": [
    "from decouple import config\n",
    "from binance.client import Client\n",
    "import pandas as pd\n",
    "import pandas_ta as ta\n",
    "import json\n",
    "import os\n",
    "import datetime\n",
    "import time"
   ]
  },
  {
   "cell_type": "code",
   "execution_count": 2,
   "metadata": {},
   "outputs": [],
   "source": [
    "client = Client(config('API_KEY'), config('API_SECRET'), testnet=True)"
   ]
  },
  {
   "cell_type": "code",
   "execution_count": 3,
   "metadata": {},
   "outputs": [
    {
     "data": {
      "text/plain": [
       "{'asset': 'BTC', 'free': '1.01300000', 'locked': '0.00000000'}"
      ]
     },
     "execution_count": 3,
     "metadata": {},
     "output_type": "execute_result"
    }
   ],
   "source": [
    "balance = client.get_asset_balance(asset='BTC')\n",
    "asset = \"BTCUSDT\"\n",
    "balance"
   ]
  },
  {
   "cell_type": "code",
   "execution_count": 4,
   "metadata": {},
   "outputs": [
    {
     "data": {
      "text/html": [
       "<div>\n",
       "<style scoped>\n",
       "    .dataframe tbody tr th:only-of-type {\n",
       "        vertical-align: middle;\n",
       "    }\n",
       "\n",
       "    .dataframe tbody tr th {\n",
       "        vertical-align: top;\n",
       "    }\n",
       "\n",
       "    .dataframe thead th {\n",
       "        text-align: right;\n",
       "    }\n",
       "</style>\n",
       "<table border=\"1\" class=\"dataframe\">\n",
       "  <thead>\n",
       "    <tr style=\"text-align: right;\">\n",
       "      <th></th>\n",
       "      <th>time</th>\n",
       "      <th>price</th>\n",
       "    </tr>\n",
       "  </thead>\n",
       "  <tbody>\n",
       "    <tr>\n",
       "      <th>0</th>\n",
       "      <td>2024-08-25 10:59:00</td>\n",
       "      <td>63881.01</td>\n",
       "    </tr>\n",
       "    <tr>\n",
       "      <th>1</th>\n",
       "      <td>2024-08-25 11:00:00</td>\n",
       "      <td>63881.02</td>\n",
       "    </tr>\n",
       "    <tr>\n",
       "      <th>2</th>\n",
       "      <td>2024-08-25 11:01:00</td>\n",
       "      <td>63908.88</td>\n",
       "    </tr>\n",
       "    <tr>\n",
       "      <th>3</th>\n",
       "      <td>2024-08-25 11:02:00</td>\n",
       "      <td>63936.15</td>\n",
       "    </tr>\n",
       "    <tr>\n",
       "      <th>4</th>\n",
       "      <td>2024-08-25 11:03:00</td>\n",
       "      <td>63949.00</td>\n",
       "    </tr>\n",
       "  </tbody>\n",
       "</table>\n",
       "</div>"
      ],
      "text/plain": [
       "                 time     price\n",
       "0 2024-08-25 10:59:00  63881.01\n",
       "1 2024-08-25 11:00:00  63881.02\n",
       "2 2024-08-25 11:01:00  63908.88\n",
       "3 2024-08-25 11:02:00  63936.15\n",
       "4 2024-08-25 11:03:00  63949.00"
      ]
     },
     "execution_count": 4,
     "metadata": {},
     "output_type": "execute_result"
    }
   ],
   "source": [
    "def fetch_klines(asset):\n",
    "    klines = client.get_historical_klines(asset, Client.KLINE_INTERVAL_1MINUTE, \"1 hour ago UTC\")\n",
    "    # first item is kline open timestamp, fifth item is the close price (index 0 and 4)\n",
    "    klines = [[x[0], float(x[4])] for x in klines]\n",
    "    klines = pd.DataFrame(klines, columns=['time', 'price'])\n",
    "    klines['time'] = pd.to_datetime(klines['time'], unit='ms')\n",
    "    return klines\n",
    "\n",
    "btc = fetch_klines(asset)\n",
    "btc.head()\n",
    "    "
   ]
  },
  {
   "cell_type": "code",
   "execution_count": 5,
   "metadata": {},
   "outputs": [
    {
     "data": {
      "text/plain": [
       "35.37510200818853"
      ]
     },
     "execution_count": 5,
     "metadata": {},
     "output_type": "execute_result"
    }
   ],
   "source": [
    "def get_rsi(asset): \n",
    "    klines = fetch_klines(asset)\n",
    "    klines['rsi'] = ta.rsi(close = klines['price'], length=14)\n",
    "    # get the most updated rsi value\n",
    "    return klines[\"rsi\"].iloc[-1]\n",
    "\n",
    "get_rsi(asset)"
   ]
  },
  {
   "cell_type": "code",
   "execution_count": 6,
   "metadata": {},
   "outputs": [],
   "source": [
    "def create_account():\n",
    "    account = {\n",
    "        \"is_buying\": True,\n",
    "        \"assets\": {},\n",
    "    }\n",
    "    with open(\"./data/bot_account.json\", \"w\") as f:\n",
    "        f.write(json.dumps(account))"
   ]
  },
  {
   "cell_type": "code",
   "execution_count": 7,
   "metadata": {},
   "outputs": [],
   "source": [
    "def log(msg):\n",
    "    print(f\"LOG: {msg}\")\n",
    "    if not os.path.exists(\"logs\"):\n",
    "        os.mkdir(\"logs\")\n",
    "    now = datetime.datetime.now()\n",
    "    today = now.strftime(\"%Y-%m-%d\")\n",
    "    time = now.strftime(\"%H:%M:%S\")\n",
    "\n",
    "    with open(f\"logs/{today}.txt\", \"a+\") as log_file:\n",
    "        log_file.write(f\"{time} - {msg}\\n\")"
   ]
  },
  {
   "cell_type": "code",
   "execution_count": 8,
   "metadata": {},
   "outputs": [],
   "source": [
    "def trade_log(sym, side, price, amount):\n",
    "    try:\n",
    "        log(f\"{side} {amount} {sym} for {price} per\")\n",
    "        if not os.path.exists(\"trades\"):\n",
    "            os.mkdir(\"trades\")\n",
    "\n",
    "        now = datetime.datetime.now()\n",
    "        today = now.strftime(\"%Y-%m-%d\")\n",
    "\n",
    "\n",
    "        if not os.path.isfile(f\"trades/{today}.csv\"):\n",
    "            with open(f\"trades/{today}.csv\", \"w\") as trade_file:\n",
    "                trade_file.write(\"sym,side,amount,price\\n\")\n",
    "        with open(f\"trades/{today}.csv\", \"a+\") as trade_file:\n",
    "            trade_file.write(f\"{sym},{side},{amount},{price}\\n\")\n",
    "    except Exception as e:\n",
    "        log(f\"Error logging trade: {e}\")"
   ]
  },
  {
   "cell_type": "code",
   "execution_count": 9,
   "metadata": {},
   "outputs": [],
   "source": [
    "def trade(account, client, asset, side, quantity):\n",
    "    if side == \"buy\":\n",
    "        order = client.order_market_buy(symbol=asset, quantity=quantity)\n",
    "        account[\"is_buying\"] = False\n",
    "    elif side == \"sell\":\n",
    "        order = client.order_market_sell(symbol=asset, quantity=quantity)\n",
    "        account[\"is_buying\"] = True\n",
    "    order_id = order[\"orderId\"]\n",
    "    while order[\"status\"] != \"FILLED\":\n",
    "        order = client.get_order(symbol=asset, orderId=order_id)\n",
    "        time.sleep(1)\n",
    "    print(order)\n",
    "    price_paid = sum([float(fill[\"price\"]) * float(fill[\"qty\"]) for fill in order[\"fills\"]])\n",
    "    print(f\"Price paid: {price_paid}\")\n",
    "    trade_log(asset, side, price_paid, quantity)\n",
    "\n",
    "    with open(\"./data/bot_account.json\", \"w\") as f:\n",
    "        f.write(json.dumps(account))"
   ]
  },
  {
   "cell_type": "code",
   "execution_count": null,
   "metadata": {},
   "outputs": [],
   "source": [
    "rsi = get_rsi(asset)\n",
    "old_rsi = rsi\n",
    "entry = 25\n",
    "exit = 74\n",
    "\n",
    "while True:\n",
    "    try:\n",
    "        if not os.path.exists(\"./data/bot_account.json\"):\n",
    "            create_account()\n",
    "        with open(\"./data/bot_account.json\", \"r\") as f:\n",
    "            account = json.load(f)\n",
    "\n",
    "        old_rsi = rsi\n",
    "        rsi = get_rsi(asset)\n",
    "\n",
    "        if account[\"is_buying\"]:\n",
    "            if rsi < entry and old_rsi > entry:\n",
    "                trade(account, client, asset, \"buy\", 0.01)\n",
    "            else:\n",
    "                if rsi > exit and old_rsi < exit:\n",
    "                    trade(account, client, asset, \"sell\", 0.01)\n",
    "        time.sleep(10)\n",
    "    except Exception as e:\n",
    "        log(\"Error\" + str(e))"
   ]
  }
 ],
 "metadata": {
  "kernelspec": {
   "display_name": "algoenv",
   "language": "python",
   "name": "python3"
  },
  "language_info": {
   "codemirror_mode": {
    "name": "ipython",
    "version": 3
   },
   "file_extension": ".py",
   "mimetype": "text/x-python",
   "name": "python",
   "nbconvert_exporter": "python",
   "pygments_lexer": "ipython3",
   "version": "3.9.6"
  }
 },
 "nbformat": 4,
 "nbformat_minor": 2
}
