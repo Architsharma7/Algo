{
 "cells": [
  {
   "cell_type": "code",
   "execution_count": null,
   "metadata": {},
   "outputs": [],
   "source": [
    "import requests\n",
    "import pandas as pd\n",
    "import datetime\n",
    "import json"
   ]
  },
  {
   "cell_type": "markdown",
   "metadata": {},
   "source": [
    "## Historical Data Scraping from Bitstamp"
   ]
  },
  {
   "cell_type": "code",
   "execution_count": null,
   "metadata": {},
   "outputs": [],
   "source": [
    "market_symbol = \"btcusd\"\n",
    "url = f\"https://www.bitstamp.net/api/v2/ohlc/{market_symbol}/\"\n",
    "start = \"2024-08-01\"\n",
    "end = \"2024-08-02\"\n",
    "dates = pd.date_range(start,end,freq=\"1h\")\n",
    "# 10**9 => the output is in nanoseconds\n",
    "# int => the output is in float\n",
    "dates = [int(x.value/10**9) for x in list(dates)]\n",
    "master_data = []\n",
    "\n",
    "# iterate over pairs of adjacent elements in list\n",
    "for first, last in zip(dates, dates[1:]): \n",
    "    params = {\n",
    "    \"step\":60,\n",
    "    \"limit\":1000,\n",
    "    \"start\": first,\n",
    "    \"end\": last,\n",
    "    }\n",
    "    data = requests.get(url, params=params)\n",
    "    data = data.json()[\"data\"][\"ohlc\"]\n",
    "    master_data += data\n",
    "\n",
    "df = pd.DataFrame(master_data)\n",
    "df = df.drop_duplicates()\n",
    "\n",
    "df[\"timestamp\"] = df[\"timestamp\"].astype(int)\n",
    "df = df.sort_values(by=\"timestamp\")\n",
    "# make sure there is no extra data except from the specified timestamp\n",
    "df = df[df[\"timestamp\"] >= dates[0]]\n",
    "df = df[df[\"timestamp\"] < dates[-1]]\n",
    "\n",
    "df.to_csv(\"./data/market_data.csv\", index=False)\n",
    "df"
   ]
  }
 ],
 "metadata": {
  "kernelspec": {
   "display_name": "myenv",
   "language": "python",
   "name": "python3"
  },
  "language_info": {
   "codemirror_mode": {
    "name": "ipython",
    "version": 3
   },
   "file_extension": ".py",
   "mimetype": "text/x-python",
   "name": "python",
   "nbconvert_exporter": "python",
   "pygments_lexer": "ipython3",
   "version": "3.9.6"
  }
 },
 "nbformat": 4,
 "nbformat_minor": 2
}
