{
 "cells": [
  {
   "cell_type": "code",
   "execution_count": 26,
   "metadata": {},
   "outputs": [],
   "source": [
    "import vectorbt as vbt\n",
    "import pandas as pd\n",
    "import numpy as np\n",
    "from datetime import datetime"
   ]
  },
  {
   "cell_type": "code",
   "execution_count": 15,
   "metadata": {},
   "outputs": [
    {
     "data": {
      "text/html": [
       "<div>\n",
       "<style scoped>\n",
       "    .dataframe tbody tr th:only-of-type {\n",
       "        vertical-align: middle;\n",
       "    }\n",
       "\n",
       "    .dataframe tbody tr th {\n",
       "        vertical-align: top;\n",
       "    }\n",
       "\n",
       "    .dataframe thead th {\n",
       "        text-align: right;\n",
       "    }\n",
       "</style>\n",
       "<table border=\"1\" class=\"dataframe\">\n",
       "  <thead>\n",
       "    <tr style=\"text-align: right;\">\n",
       "      <th></th>\n",
       "      <th>timestamp</th>\n",
       "      <th>close</th>\n",
       "      <th>date</th>\n",
       "    </tr>\n",
       "  </thead>\n",
       "  <tbody>\n",
       "    <tr>\n",
       "      <th>0</th>\n",
       "      <td>1722470400</td>\n",
       "      <td>64643</td>\n",
       "      <td>2024-08-01 00:00:00</td>\n",
       "    </tr>\n",
       "    <tr>\n",
       "      <th>1</th>\n",
       "      <td>1722470460</td>\n",
       "      <td>64642</td>\n",
       "      <td>2024-08-01 00:01:00</td>\n",
       "    </tr>\n",
       "    <tr>\n",
       "      <th>2</th>\n",
       "      <td>1722470520</td>\n",
       "      <td>64639</td>\n",
       "      <td>2024-08-01 00:02:00</td>\n",
       "    </tr>\n",
       "    <tr>\n",
       "      <th>3</th>\n",
       "      <td>1722470580</td>\n",
       "      <td>64663</td>\n",
       "      <td>2024-08-01 00:03:00</td>\n",
       "    </tr>\n",
       "    <tr>\n",
       "      <th>4</th>\n",
       "      <td>1722470640</td>\n",
       "      <td>64688</td>\n",
       "      <td>2024-08-01 00:04:00</td>\n",
       "    </tr>\n",
       "    <tr>\n",
       "      <th>...</th>\n",
       "      <td>...</td>\n",
       "      <td>...</td>\n",
       "      <td>...</td>\n",
       "    </tr>\n",
       "    <tr>\n",
       "      <th>1435</th>\n",
       "      <td>1722556500</td>\n",
       "      <td>65375</td>\n",
       "      <td>2024-08-01 23:55:00</td>\n",
       "    </tr>\n",
       "    <tr>\n",
       "      <th>1436</th>\n",
       "      <td>1722556560</td>\n",
       "      <td>65390</td>\n",
       "      <td>2024-08-01 23:56:00</td>\n",
       "    </tr>\n",
       "    <tr>\n",
       "      <th>1437</th>\n",
       "      <td>1722556620</td>\n",
       "      <td>65374</td>\n",
       "      <td>2024-08-01 23:57:00</td>\n",
       "    </tr>\n",
       "    <tr>\n",
       "      <th>1438</th>\n",
       "      <td>1722556680</td>\n",
       "      <td>65356</td>\n",
       "      <td>2024-08-01 23:58:00</td>\n",
       "    </tr>\n",
       "    <tr>\n",
       "      <th>1439</th>\n",
       "      <td>1722556740</td>\n",
       "      <td>65293</td>\n",
       "      <td>2024-08-01 23:59:00</td>\n",
       "    </tr>\n",
       "  </tbody>\n",
       "</table>\n",
       "<p>1440 rows × 3 columns</p>\n",
       "</div>"
      ],
      "text/plain": [
       "       timestamp  close                date\n",
       "0     1722470400  64643 2024-08-01 00:00:00\n",
       "1     1722470460  64642 2024-08-01 00:01:00\n",
       "2     1722470520  64639 2024-08-01 00:02:00\n",
       "3     1722470580  64663 2024-08-01 00:03:00\n",
       "4     1722470640  64688 2024-08-01 00:04:00\n",
       "...          ...    ...                 ...\n",
       "1435  1722556500  65375 2024-08-01 23:55:00\n",
       "1436  1722556560  65390 2024-08-01 23:56:00\n",
       "1437  1722556620  65374 2024-08-01 23:57:00\n",
       "1438  1722556680  65356 2024-08-01 23:58:00\n",
       "1439  1722556740  65293 2024-08-01 23:59:00\n",
       "\n",
       "[1440 rows x 3 columns]"
      ]
     },
     "execution_count": 15,
     "metadata": {},
     "output_type": "execute_result"
    }
   ],
   "source": [
    "btc_price = pd.read_csv(\"./data/market_data.csv\")[[\"timestamp\", \"close\"]]\n",
    "# unit = \"s\", since we already converted our timestamp to seconds while scraping\n",
    "btc_price[\"date\"] = pd.to_datetime(btc_price[\"timestamp\"], unit=\"s\")\n",
    "btc_price"
   ]
  },
  {
   "cell_type": "code",
   "execution_count": 17,
   "metadata": {},
   "outputs": [
    {
     "data": {
      "text/plain": [
       "date\n",
       "2024-08-01 00:00:00    64643\n",
       "2024-08-01 00:01:00    64642\n",
       "2024-08-01 00:02:00    64639\n",
       "2024-08-01 00:03:00    64663\n",
       "2024-08-01 00:04:00    64688\n",
       "                       ...  \n",
       "2024-08-01 23:55:00    65375\n",
       "2024-08-01 23:56:00    65390\n",
       "2024-08-01 23:57:00    65374\n",
       "2024-08-01 23:58:00    65356\n",
       "2024-08-01 23:59:00    65293\n",
       "Name: close, Length: 1440, dtype: int64"
      ]
     },
     "execution_count": 17,
     "metadata": {},
     "output_type": "execute_result"
    }
   ],
   "source": [
    "btc_price = btc_price.set_index(\"date\")[\"close\"]\n",
    "btc_price"
   ]
  },
  {
   "cell_type": "code",
   "execution_count": 23,
   "metadata": {},
   "outputs": [
    {
     "data": {
      "text/plain": [
       "<vectorbt.indicators.basic.RSI at 0x2885ebfd0>"
      ]
     },
     "execution_count": 23,
     "metadata": {},
     "output_type": "execute_result"
    }
   ],
   "source": [
    "rsi = vbt.RSI.run(btc_price, window=14, short_name=\"rsi\")\n",
    "entries = rsi.rsi_crossed_below(30)\n",
    "exits = rsi.rsi_crossed_above(70)"
   ]
  },
  {
   "cell_type": "code",
   "execution_count": null,
   "metadata": {},
   "outputs": [],
   "source": [
    "pf = vbt.Portfolio.from_signals(btc_price, entries, exits)\n",
    "pf.plot().show()"
   ]
  },
  {
   "cell_type": "markdown",
   "metadata": {},
   "source": [
    "Optimising variables"
   ]
  },
  {
   "cell_type": "code",
   "execution_count": 32,
   "metadata": {},
   "outputs": [
    {
     "data": {
      "text/plain": [
       "rsi_crossed_below  rsi_crossed_above\n",
       "1.000000           55.000000            0.000000\n",
       "5.888889           59.888889            0.000000\n",
       "10.777778          64.777778            0.000000\n",
       "15.666667          69.666667           -0.017403\n",
       "20.555556          74.555556           -0.010620\n",
       "25.444444          79.444444           -0.011055\n",
       "30.333333          84.333333            0.002169\n",
       "35.222222          89.222222           -0.007168\n",
       "40.111111          94.111111            0.006671\n",
       "45.000000          99.000000            0.010118\n",
       "Name: total_return, dtype: float64"
      ]
     },
     "execution_count": 32,
     "metadata": {},
     "output_type": "execute_result"
    }
   ],
   "source": [
    "num = 10\n",
    "entry_points = np.linspace(1,45, num=num)\n",
    "exit_points = np.linspace(55,99, num=num)\n",
    "\n",
    "entries = rsi.rsi_crossed_below(list(entry_points))\n",
    "exits = rsi.rsi_crossed_above(list(exit_points))\n",
    "\n",
    "pf = vbt.Portfolio.from_signals(btc_price, entries, exits)\n",
    "pf_performance = pf.total_return()\n",
    "\n",
    "pf_performance"
   ]
  },
  {
   "cell_type": "markdown",
   "metadata": {},
   "source": [
    "Plotting heatmap"
   ]
  },
  {
   "cell_type": "code",
   "execution_count": null,
   "metadata": {},
   "outputs": [],
   "source": [
    "grid = np.array(np.meshgrid(entry_points, exit_points)).T.reshape(-1, 2)\n",
    "\n",
    "entries = rsi.rsi_crossed_below(list(grid[:, [0]]))\n",
    "exits = rsi.rsi_crossed_above(list(grid[:, [1]]))\n",
    "\n",
    "pf = vbt.Portfolio.from_signals(btc_price, entries, exits)\n",
    "pf_performance = pf.total_return()\n",
    "\n",
    "pf_performance_matrix = pf_performance.vbt.unstack_to_df(index_levels=\"rsi_crossed_above\", column_levels=\"rsi_crossed_below\")\n",
    "\n",
    "pf_performance_matrix.vbt.heatmap(xaxis_title=\"entry\", yaxis_title=\"exit\").show()"
   ]
  }
 ],
 "metadata": {
  "kernelspec": {
   "display_name": "algoenv",
   "language": "python",
   "name": "python3"
  },
  "language_info": {
   "codemirror_mode": {
    "name": "ipython",
    "version": 3
   },
   "file_extension": ".py",
   "mimetype": "text/x-python",
   "name": "python",
   "nbconvert_exporter": "python",
   "pygments_lexer": "ipython3",
   "version": "3.9.6"
  }
 },
 "nbformat": 4,
 "nbformat_minor": 2
}
